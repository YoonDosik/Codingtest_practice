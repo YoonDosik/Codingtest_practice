{
 "cells": [
  {
   "cell_type": "code",
   "outputs": [],
   "source": [],
   "metadata": {
    "collapsed": false
   },
   "id": "599bd29bcb289c39"
  },
  {
   "cell_type": "raw",
   "source": [],
   "metadata": {
    "collapsed": false
   },
   "id": "78e9cd4e07819bad"
  },
  {
   "cell_type": "markdown",
   "source": [
    "-- 코드를 입력하세요\n",
    "SELECT A.PRODUCT_CODE, sum(B.SALES_AMOUNT) * A.PRICE AS SALES\n",
    "FROM PRODUCT AS A LEFT JOIN OFFLINE_SALE AS B\n",
    "ON A.PRODUCT_ID = B.PRODUCT_ID\n",
    "GROUP BY A.PRODUCT_CODE\n",
    "ORDER BY SALES DESC, A.PRODUCT_CODE ASC"
   ],
   "metadata": {
    "collapsed": false
   },
   "id": "aebb4f7f7f0f7b11"
  }
 ],
 "metadata": {
  "kernelspec": {
   "display_name": "Python 3",
   "language": "python",
   "name": "python3"
  },
  "language_info": {
   "codemirror_mode": {
    "name": "ipython",
    "version": 2
   },
   "file_extension": ".py",
   "mimetype": "text/x-python",
   "name": "python",
   "nbconvert_exporter": "python",
   "pygments_lexer": "ipython2",
   "version": "2.7.6"
  }
 },
 "nbformat": 4,
 "nbformat_minor": 5
}
